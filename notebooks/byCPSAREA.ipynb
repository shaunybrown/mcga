{
 "cells": [
  {
   "cell_type": "code",
   "execution_count": 1,
   "metadata": {},
   "outputs": [],
   "source": [
    "from neo4j import GraphDatabase\n",
    "from sort_dataframeby_monthorweek import *\n",
    "import pandas as pd\n",
    "import numpy as np\n",
    "import os\n",
    "file_path = r'C:\\Users\\Shaun\\PycharmProjects\\untitled\\data'"
   ]
  },
  {
   "cell_type": "code",
   "execution_count": 2,
   "metadata": {},
   "outputs": [],
   "source": [
    "driver = GraphDatabase.driver(\"neo4j://localhost:7687\", auth=(\"neo4j\", \"password\"))\n",
    "session = driver.session()"
   ]
  },
  {
   "cell_type": "code",
   "execution_count": 3,
   "metadata": {},
   "outputs": [],
   "source": [
    "result = session.run(\"match (a:CPSArea)-[:IN]-(:PoliceForce)-[:IN_AREA]-(b) return a.area as CPSArea, labels(b)[0] as Offence, sum(toInteger(b.convictions)) + sum(toInteger(b.unsuccessful)) as Number_of_Cases order by CPSArea, Offence\")"
   ]
  },
  {
   "cell_type": "code",
   "execution_count": 4,
   "metadata": {},
   "outputs": [],
   "source": [
    "df = pd.DataFrame([r.values() for r in result], columns=result.keys())"
   ]
  },
  {
   "cell_type": "code",
   "execution_count": 19,
   "metadata": {},
   "outputs": [],
   "source": [
    "df1=df[df['CPSArea'] == 'Cymru/Wales']\n",
    "df2=df[df['CPSArea'] == 'East Midlands']\n",
    "df3=df[df['CPSArea'] == 'East of England']\n",
    "df4=df[df['CPSArea'] == 'Mersey-Cheshire']\n",
    "df5=df[df['CPSArea'] == 'North East']\n",
    "df6=df[df['CPSArea'] == 'North West']\n",
    "df7=df[df['CPSArea'] == 'South East']\n",
    "df8=df[df['CPSArea'] == 'South West']\n",
    "df9=df[df['CPSArea'] == 'Thames and Chiltern']\n",
    "df10=df[df['CPSArea'] == 'Wessex']\n",
    "df11=df[df['CPSArea'] == 'Yorkshire and Humberside']\n",
    "df12=df[df['CPSArea'] == 'London']\n",
    "df13=df[df['CPSArea'] == 'West Midlands']"
   ]
  },
  {
   "cell_type": "code",
   "execution_count": 6,
   "metadata": {},
   "outputs": [],
   "source": [
    "import matplotlib.pyplot as plt"
   ]
  },
  {
   "cell_type": "code",
   "execution_count": 1,
   "metadata": {},
   "outputs": [
    {
     "ename": "NameError",
     "evalue": "name 'df1' is not defined",
     "output_type": "error",
     "traceback": [
      "\u001b[1;31m---------------------------------------------------------------------------\u001b[0m",
      "\u001b[1;31mNameError\u001b[0m                                 Traceback (most recent call last)",
      "\u001b[1;32m<ipython-input-1-79640c9837e3>\u001b[0m in \u001b[0;36m<module>\u001b[1;34m\u001b[0m\n\u001b[1;32m----> 1\u001b[1;33m \u001b[0mdf_list\u001b[0m \u001b[1;33m=\u001b[0m \u001b[1;33m[\u001b[0m\u001b[0mdf1\u001b[0m \u001b[1;33m,\u001b[0m\u001b[0mdf2\u001b[0m\u001b[1;33m,\u001b[0m \u001b[0mdf3\u001b[0m\u001b[1;33m,\u001b[0m \u001b[0mdf4\u001b[0m\u001b[1;33m,\u001b[0m \u001b[0mdf5\u001b[0m\u001b[1;33m,\u001b[0m \u001b[0mdf6\u001b[0m\u001b[1;33m,\u001b[0m \u001b[0mdf7\u001b[0m\u001b[1;33m,\u001b[0m \u001b[0mdf8\u001b[0m\u001b[1;33m,\u001b[0m \u001b[0mdf9\u001b[0m\u001b[1;33m,\u001b[0m \u001b[0mdf10\u001b[0m\u001b[1;33m,\u001b[0m \u001b[0mdf11\u001b[0m\u001b[1;33m,\u001b[0m \u001b[0mdf12\u001b[0m\u001b[1;33m,\u001b[0m \u001b[0mdf13\u001b[0m\u001b[1;33m]\u001b[0m\u001b[1;33m\u001b[0m\u001b[1;33m\u001b[0m\u001b[0m\n\u001b[0m\u001b[0;32m      2\u001b[0m \u001b[0marea_list\u001b[0m \u001b[1;33m=\u001b[0m \u001b[1;33m[\u001b[0m\u001b[1;34m'Cymru/Wales'\u001b[0m\u001b[1;33m,\u001b[0m\u001b[1;34m'East Midlands'\u001b[0m\u001b[1;33m,\u001b[0m\u001b[1;34m'East of England'\u001b[0m\u001b[1;33m,\u001b[0m\u001b[1;34m'Mersey-Cheshire'\u001b[0m\u001b[1;33m,\u001b[0m\u001b[1;34m'North East'\u001b[0m\u001b[1;33m,\u001b[0m\u001b[1;34m'North West'\u001b[0m\u001b[1;33m,\u001b[0m\u001b[1;34m'South East'\u001b[0m\u001b[1;33m,\u001b[0m\u001b[1;34m'South West'\u001b[0m\u001b[1;33m,\u001b[0m\u001b[1;34m'Thames and Chiltern'\u001b[0m\u001b[1;33m,\u001b[0m\u001b[1;34m'Wessex'\u001b[0m\u001b[1;33m,\u001b[0m\u001b[1;34m'Yorkshire and Humberside'\u001b[0m\u001b[1;33m,\u001b[0m\u001b[1;34m'London'\u001b[0m\u001b[1;33m,\u001b[0m \u001b[1;34m'West Midlands'\u001b[0m\u001b[1;33m]\u001b[0m\u001b[1;33m\u001b[0m\u001b[1;33m\u001b[0m\u001b[0m\n\u001b[0;32m      3\u001b[0m \u001b[0mx\u001b[0m\u001b[1;33m=\u001b[0m\u001b[1;36m12\u001b[0m\u001b[1;33m\u001b[0m\u001b[1;33m\u001b[0m\u001b[0m\n\u001b[0;32m      4\u001b[0m \u001b[0mdf_list\u001b[0m\u001b[1;33m[\u001b[0m\u001b[0mx\u001b[0m\u001b[1;33m]\u001b[0m\u001b[1;33m.\u001b[0m\u001b[0mplot\u001b[0m\u001b[1;33m(\u001b[0m\u001b[0my\u001b[0m\u001b[1;33m=\u001b[0m\u001b[1;34m'Number_of_Cases'\u001b[0m\u001b[1;33m,\u001b[0m\u001b[0mkind\u001b[0m\u001b[1;33m=\u001b[0m\u001b[1;34m'pie'\u001b[0m\u001b[1;33m,\u001b[0m \u001b[0mlegend\u001b[0m\u001b[1;33m=\u001b[0m\u001b[1;32mFalse\u001b[0m\u001b[1;33m,\u001b[0m\u001b[0mlabels\u001b[0m\u001b[1;33m=\u001b[0m\u001b[1;32mNone\u001b[0m\u001b[1;33m,\u001b[0m \u001b[0mtitle\u001b[0m\u001b[1;33m=\u001b[0m\u001b[0marea_list\u001b[0m\u001b[1;33m[\u001b[0m\u001b[0mx\u001b[0m\u001b[1;33m]\u001b[0m\u001b[1;33m)\u001b[0m\u001b[1;33m\u001b[0m\u001b[1;33m\u001b[0m\u001b[0m\n\u001b[0;32m      5\u001b[0m \u001b[0mprint\u001b[0m\u001b[1;33m(\u001b[0m\u001b[0mdf_list\u001b[0m\u001b[1;33m[\u001b[0m\u001b[0mx\u001b[0m\u001b[1;33m]\u001b[0m\u001b[1;33m)\u001b[0m\u001b[1;33m\u001b[0m\u001b[1;33m\u001b[0m\u001b[0m\n",
      "\u001b[1;31mNameError\u001b[0m: name 'df1' is not defined"
     ]
    }
   ],
   "source": [
    "df_list = [df1 ,df2, df3, df4, df5, df6, df7, df8, df9, df10, df11, df12, df13]\n",
    "area_list = ['Cymru/Wales','East Midlands','East of England','Mersey-Cheshire','North East','North West','South East','South West','Thames and Chiltern','Wessex','Yorkshire and Humberside','London', 'West Midlands']\n",
    "x=12\n",
    "df_list[x].plot(y='Number_of_Cases',kind='pie', legend=False,labels=None, title=area_list[x])\n",
    "print(df_list[x])"
   ]
  },
  {
   "cell_type": "code",
   "execution_count": 8,
   "metadata": {},
   "outputs": [
    {
     "data": {
      "text/plain": [
       "'nrow=4\\nncol=4\\ndf_list = [df1 ,df2, df3, df4, df5, df6, df7, df8, df9, df10, df11, df12, df13]\\narea_list = [\\'Cymru/Wales\\',\\'East Midlands\\',\\'East of England\\',\\'Mersey-Cheshire\\',\\'North East\\',\\'North West\\',\\'South East\\',\\'South West\\',\\'Thames and Chiltern\\',\\'Wessex\\',\\'Yorkshire and Humberside\\',\\'London\\', \\'West Midlands\\']\\n\\nfig, axes = plt.subplots(nrow, ncol)\\n\\ncount=0\\nwhile count < 13:\\n    for r in range(nrow):\\n        for c in range(ncol):\\n            ax = df_list[count].plot(y=\\'Number_of_Cases\\',kind=\\'pie\\', subplots=True, ax=axes[r,c], legend=False,labels=None, title=area_list[count])\\n            fig.set_size_inches(5, 5)\\n            count=+1\\n        \\n\\nhandles, labels = ax.get_legend_handles_labels()\\nhandle_list, label_list = [], []\\nfor handle, label in zip(handles, labels):\\n    if label not in label_list:\\n        handle_list.append(handle)\\n        label_list.append(label)\\nfig.legend(handle_list, label_list, loc=7, prop={\\'size\\': 50})\\nfig.set_size_inches(60, 40)\\nfig.savefig(\"output2.png\")'"
      ]
     },
     "execution_count": 8,
     "metadata": {},
     "output_type": "execute_result"
    }
   ],
   "source": [
    "nrow=4\n",
    "ncol=4\n",
    "df_list = [df1 ,df2, df3, df4, df5, df6, df7, df8, df9, df10, df11, df12, df13]\n",
    "area_list = ['Cymru/Wales','East Midlands','East of England','Mersey-Cheshire','North East','North West','South East','South West','Thames and Chiltern','Wessex','Yorkshire and Humberside','London', 'West Midlands']\n",
    "\n",
    "fig, axes = plt.subplots(nrow, ncol)\n",
    "\n",
    "count=0\n",
    "while count < 13:\n",
    "    for r in range(nrow):\n",
    "        for c in range(ncol):\n",
    "            ax = df_list[count].plot(y='Number_of_Cases',kind='pie', subplots=True, ax=axes[r,c], legend=False,labels=None, title=area_list[count])\n",
    "            fig.set_size_inches(5, 5)\n",
    "            count=+1\n",
    "        \n",
    "\n",
    "handles, labels = ax.get_legend_handles_labels()\n",
    "handle_list, label_list = [], []\n",
    "for handle, label in zip(handles, labels):\n",
    "    if label not in label_list:\n",
    "        handle_list.append(handle)\n",
    "        label_list.append(label)\n",
    "fig.legend(handle_list, label_list, loc=7, prop={'size': 50})\n",
    "fig.set_size_inches(60, 40)\n",
    "fig.savefig(\"output2.png\")"
   ]
  },
  {
   "cell_type": "code",
   "execution_count": null,
   "metadata": {},
   "outputs": [],
   "source": []
  }
 ],
 "metadata": {
  "kernelspec": {
   "display_name": "Python 3",
   "language": "python",
   "name": "python3"
  },
  "language_info": {
   "codemirror_mode": {
    "name": "ipython",
    "version": 3
   },
   "file_extension": ".py",
   "mimetype": "text/x-python",
   "name": "python",
   "nbconvert_exporter": "python",
   "pygments_lexer": "ipython3",
   "version": "3.7.6"
  }
 },
 "nbformat": 4,
 "nbformat_minor": 4
}

{
 "cells": [
  {
   "cell_type": "code",
   "execution_count": 1,
   "metadata": {},
   "outputs": [],
   "source": [
    "from neo4j import GraphDatabase\n",
    "from sort_dataframeby_monthorweek import *\n",
    "import pandas as pd\n",
    "import numpy as np\n",
    "import os\n",
    "file_path = r'C:\\Users\\Shaun\\PycharmProjects\\untitled\\data'"
   ]
  },
  {
   "cell_type": "code",
   "execution_count": 2,
   "metadata": {},
   "outputs": [],
   "source": [
    "driver = GraphDatabase.driver(\"neo4j://localhost:7687\", auth=(\"neo4j\", \"password\"))\n",
    "session = driver.session()"
   ]
  },
  {
   "cell_type": "code",
   "execution_count": 3,
   "metadata": {},
   "outputs": [],
   "source": [
    "result = session.run(\"match (a:CPSArea)-[:IN]-(:PoliceForce)-[:IN_AREA]-(b) return a.area as CPSArea, labels(b)[0] as Offence, sum(toInteger(b.convictions)) + sum(toInteger(b.unsuccessful)) as Number_of_Cases order by CPSArea, Offence\")"
   ]
  },
  {
   "cell_type": "code",
   "execution_count": 4,
   "metadata": {},
   "outputs": [],
   "source": [
    "df = pd.DataFrame([r.values() for r in result], columns=result.keys())"
   ]
  },
  {
   "cell_type": "code",
   "execution_count": 9,
   "metadata": {},
   "outputs": [],
   "source": [
    "df1=df[df['CPSArea'] == 'Cymru/Wales']\n",
    "df2=df[df['CPSArea'] == 'East Midlands']\n",
    "df3=df[df['CPSArea'] == 'East of England']\n",
    "df4=df[df['CPSArea'] == 'Mersey-Cheshire']\n",
    "df5=df[df['CPSArea'] == 'North East']\n",
    "df6=df[df['CPSArea'] == 'North West']\n",
    "df7=df[df['CPSArea'] == 'South East']\n",
    "df8=df[df['CPSArea'] == 'South West']\n",
    "df9=df[df['CPSArea'] == 'Thames and Chiltern']\n",
    "df10=df[df['CPSArea'] == 'Wessex']\n",
    "df11=df[df['CPSArea'] == 'Yorkshire and Humberside']\n",
    "df12=df[df['CPSArea'] == 'London']\n",
    "df13=df[df['CPSArea'] == 'West Midlands']"
   ]
  },
  {
   "cell_type": "code",
   "execution_count": 6,
   "metadata": {},
   "outputs": [],
   "source": [
    "import matplotlib.pyplot as plt"
   ]
  },
  {
   "cell_type": "code",
   "execution_count": 14,
   "metadata": {},
   "outputs": [
    {
     "name": "stdout",
     "output_type": "stream",
     "text": [
      "            CPSArea                 Offence  Number_of_Cases\n",
      "56  Mersey-Cheshire          AdminFinalised              183\n",
      "57  Mersey-Cheshire        AgainstThePerson             4009\n",
      "58  Mersey-Cheshire                Burglary              238\n",
      "59  Mersey-Cheshire          CriminalDamage              569\n",
      "60  Mersey-Cheshire                   Drugs             1576\n",
      "61  Mersey-Cheshire         FraudAndForgery              228\n",
      "62  Mersey-Cheshire                Homicide               24\n",
      "63  Mersey-Cheshire       LMotoringOffences             1200\n",
      "64  Mersey-Cheshire                Motoring             3205\n",
      "65  Mersey-Cheshire  OtherExcludingMotoring               56\n",
      "66  Mersey-Cheshire             PublicOrder             1306\n",
      "67  Mersey-Cheshire                 Robbery               77\n",
      "68  Mersey-Cheshire          SexualOffences              393\n",
      "69  Mersey-Cheshire        TheftAndHandling             1922\n"
     ]
    },
    {
     "data": {
      "image/png": "[encoded data removed]",
      "text/plain": [
       "<Figure size 432x288 with 1 Axes>"
      ]
     },
     "metadata": {},
     "output_type": "display_data"
    }
   ],
   "source": [
    "df_list = [df1 ,df2, df3, df4, df5, df6, df7, df8, df9, df10, df11, df12, df13]\n",
    "area_list = ['Cymru/Wales','East Midlands','East of England','Mersey-Cheshire','North East','North West','South East','South West','Thames and Chiltern','Wessex','Yorkshire and Humberside','London', 'West Midlands']\n",
    "x=4\n",
    "df_list[x].plot(y='Number_of_Cases',kind='pie', legend=False,labels=None, title=area_list[x])\n",
    "print(df_list[x])"
   ]
  },
  {
   "cell_type": "code",
   "execution_count": 8,
   "metadata": {},
   "outputs": [
    {
     "data": {
      "text/plain": [
       "'nrow=4\\nncol=4\\ndf_list = [df1 ,df2, df3, df4, df5, df6, df7, df8, df9, df10, df11, df12, df13]\\narea_list = [\\'Cymru/Wales\\',\\'East Midlands\\',\\'East of England\\',\\'Mersey-Cheshire\\',\\'North East\\',\\'North West\\',\\'South East\\',\\'South West\\',\\'Thames and Chiltern\\',\\'Wessex\\',\\'Yorkshire and Humberside\\',\\'London\\', \\'West Midlands\\']\\n\\nfig, axes = plt.subplots(nrow, ncol)\\n\\ncount=0\\nwhile count < 13:\\n    for r in range(nrow):\\n        for c in range(ncol):\\n            ax = df_list[count].plot(y=\\'Number_of_Cases\\',kind=\\'pie\\', subplots=True, ax=axes[r,c], legend=False,labels=None, title=area_list[count])\\n            fig.set_size_inches(5, 5)\\n            count=+1\\n        \\n\\nhandles, labels = ax.get_legend_handles_labels()\\nhandle_list, label_list = [], []\\nfor handle, label in zip(handles, labels):\\n    if label not in label_list:\\n        handle_list.append(handle)\\n        label_list.append(label)\\nfig.legend(handle_list, label_list, loc=7, prop={\\'size\\': 50})\\nfig.set_size_inches(60, 40)\\nfig.savefig(\"output2.png\")'"
      ]
     },
     "execution_count": 8,
     "metadata": {},
     "output_type": "execute_result"
    }
   ],
   "source": [
    "'''nrow=4\n",
    "ncol=4\n",
    "df_list = [df1 ,df2, df3, df4, df5, df6, df7, df8, df9, df10, df11, df12, df13]\n",
    "area_list = ['Cymru/Wales','East Midlands','East of England','Mersey-Cheshire','North East','North West','South East','South West','Thames and Chiltern','Wessex','Yorkshire and Humberside','London', 'West Midlands']\n",
    "\n",
    "fig, axes = plt.subplots(nrow, ncol)\n",
    "\n",
    "count=0\n",
    "while count < 13:\n",
    "    for r in range(nrow):\n",
    "        for c in range(ncol):\n",
    "            ax = df_list[count].plot(y='Number_of_Cases',kind='pie', subplots=True, ax=axes[r,c], legend=False,labels=None, title=area_list[count])\n",
    "            fig.set_size_inches(5, 5)\n",
    "            count=+1\n",
    "        \n",
    "\n",
    "handles, labels = ax.get_legend_handles_labels()\n",
    "handle_list, label_list = [], []\n",
    "for handle, label in zip(handles, labels):\n",
    "    if label not in label_list:\n",
    "        handle_list.append(handle)\n",
    "        label_list.append(label)\n",
    "fig.legend(handle_list, label_list, loc=7, prop={'size': 50})\n",
    "fig.set_size_inches(60, 40)\n",
    "fig.savefig(\"output2.png\")'''"
   ]
  },
  {
   "cell_type": "code",
   "execution_count": null,
   "metadata": {},
   "outputs": [],
   "source": []
  }
 ],
 "metadata": {
  "kernelspec": {
   "display_name": "Python 3",
   "language": "python",
   "name": "python3"
  },
  "language_info": {
   "codemirror_mode": {
    "name": "ipython",
    "version": 3
   },
   "file_extension": ".py",
   "mimetype": "text/x-python",
   "name": "python",
   "nbconvert_exporter": "python",
   "pygments_lexer": "ipython3",
   "version": "3.7.6"
  }
 },
 "nbformat": 4,
 "nbformat_minor": 4
}
